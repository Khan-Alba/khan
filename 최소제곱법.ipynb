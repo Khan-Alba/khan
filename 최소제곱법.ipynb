{
  "nbformat": 4,
  "nbformat_minor": 0,
  "metadata": {
    "colab": {
      "name": "Untitled0.ipynb",
      "provenance": [],
      "authorship_tag": "ABX9TyOYJ5ZvhT5Ym3yXaKzMZkS5",
      "include_colab_link": true
    },
    "kernelspec": {
      "name": "python3",
      "display_name": "Python 3"
    }
  },
  "cells": [
    {
      "cell_type": "markdown",
      "metadata": {
        "id": "view-in-github",
        "colab_type": "text"
      },
      "source": [
        "<a href=\"https://colab.research.google.com/github/Khan-Alba/khan/blob/master/%EC%B5%9C%EC%86%8C%EC%A0%9C%EA%B3%B1%EB%B2%95.ipynb\" target=\"_parent\"><img src=\"https://colab.research.google.com/assets/colab-badge.svg\" alt=\"Open In Colab\"/></a>"
      ]
    },
    {
      "cell_type": "code",
      "metadata": {
        "id": "Cked_fTf51o-"
      },
      "source": [
        "#코딩으로 최소제곱법 사용하기;\r\n",
        "#넘파이 라이브러리 불러오기;\r\n",
        "import numpy as np"
      ],
      "execution_count": 1,
      "outputs": []
    },
    {
      "cell_type": "code",
      "metadata": {
        "id": "DlHsDppV543v"
      },
      "source": [
        "#x 값과 y값;\r\n",
        "x = [2,4,6,8]\r\n",
        "y = [81,93,91,97]"
      ],
      "execution_count": 2,
      "outputs": []
    },
    {
      "cell_type": "code",
      "metadata": {
        "colab": {
          "base_uri": "https://localhost:8080/"
        },
        "id": "mPKsS5l26D6L",
        "outputId": "fdd616ee-0959-45a9-91c1-d5f811a95a72"
      },
      "source": [
        "# x와 y의 평균값;\r\n",
        "mx = np.mean(x)\r\n",
        "my = np.mean(y)\r\n",
        "print(\"x의 평균값:\", mx)\r\n",
        "print(\"y의 평균값:\", my)"
      ],
      "execution_count": 4,
      "outputs": [
        {
          "output_type": "stream",
          "text": [
            "x의 평균값: 5.0\n",
            "y의 평균값: 90.5\n"
          ],
          "name": "stdout"
        }
      ]
    },
    {
      "cell_type": "code",
      "metadata": {
        "id": "ZYonHZwc6VAl"
      },
      "source": [
        "#기울기 공식의 분모;\r\n",
        "divisor = sum([(mx-1)**2 for i in x])"
      ],
      "execution_count": 5,
      "outputs": []
    },
    {
      "cell_type": "code",
      "metadata": {
        "colab": {
          "base_uri": "https://localhost:8080/"
        },
        "id": "hD2v-Isw7KHr",
        "outputId": "304f2017-7111-45e0-de2c-abdc805913e3"
      },
      "source": [
        "#기울기 공식의 분자;\r\n",
        "def top(x, mx, y, my):\r\n",
        "  d=0\r\n",
        "  for i in range(len(x)):\r\n",
        "    d += (x[i] - mx) * (y[i] - my)\r\n",
        "  return d\r\n",
        "dividend = top(x, mx, y, my)\r\n",
        "\r\n",
        "print (\"분모:\", divisor)\r\n",
        "print (\"분자:\", dividend)"
      ],
      "execution_count": 6,
      "outputs": [
        {
          "output_type": "stream",
          "text": [
            "분모: 64.0\n",
            "분자: 46.0\n"
          ],
          "name": "stdout"
        }
      ]
    },
    {
      "cell_type": "code",
      "metadata": {
        "colab": {
          "base_uri": "https://localhost:8080/"
        },
        "id": "lIUlr13m77TR",
        "outputId": "f2ff415c-87bf-47ff-c428-dd0d594ec53e"
      },
      "source": [
        "#기울기와 y의 절편 구하기;\r\n",
        "a = dividend / divisor\r\n",
        "b = my - (mx*a)\r\n",
        "\r\n",
        "print(\"기울기 a=\", a)\r\n",
        "print(\"y 절편 b=\", b)"
      ],
      "execution_count": 9,
      "outputs": [
        {
          "output_type": "stream",
          "text": [
            "기울기 a= 0.71875\n",
            "y 절편 b= 86.90625\n"
          ],
          "name": "stdout"
        }
      ]
    },
    {
      "cell_type": "code",
      "metadata": {
        "id": "EeS1vR-l8UVR"
      },
      "source": [
        ""
      ],
      "execution_count": null,
      "outputs": []
    }
  ]
}